{
 "metadata": {
  "language_info": {
   "codemirror_mode": {
    "name": "ipython",
    "version": 3
   },
   "file_extension": ".py",
   "mimetype": "text/x-python",
   "name": "python",
   "nbconvert_exporter": "python",
   "pygments_lexer": "ipython3",
   "version": "3.7.1"
  },
  "orig_nbformat": 2,
  "kernelspec": {
   "name": "python371jvsc74a57bd0dfec89b7bec16b75df1d87b08c153e969a16d059d6bb68847d69dcd02514d398",
   "display_name": "Python 3.7.1 64-bit (conda)"
  }
 },
 "nbformat": 4,
 "nbformat_minor": 2,
 "cells": [
  {
   "source": [
    "## Used to View FITS Files"
   ],
   "cell_type": "markdown",
   "metadata": {}
  },
  {
   "cell_type": "code",
   "execution_count": 1,
   "metadata": {},
   "outputs": [],
   "source": [
    "import numpy as np \n",
    "import pandas as pd \n",
    "from astropy.table import Table"
   ]
  },
  {
   "source": [
    "Set file names and open using Astropy"
   ],
   "cell_type": "markdown",
   "metadata": {}
  },
  {
   "cell_type": "code",
   "execution_count": 13,
   "metadata": {},
   "outputs": [],
   "source": [
    "pd.set_option('display.max_columns', None)\n",
    "\n",
    "filename_1 = \"filepath/filename.fits\"\n",
    "\n",
    "catalog_1 = Table.read(filename_1)"
   ]
  },
  {
   "source": [
    "Print number of columns and the table itself."
   ],
   "cell_type": "markdown",
   "metadata": {}
  },
  {
   "cell_type": "code",
   "execution_count": 14,
   "metadata": {},
   "outputs": [
    {
     "output_type": "stream",
     "name": "stdout",
     "text": [
      "15\n"
     ]
    },
    {
     "output_type": "execute_result",
     "data": {
      "text/plain": [
       "<Table length=42>\n",
       "     Name      MEM_MATCH_ID ... r500_SNR_matcha r2500_PNSNR_alt_xmm\n",
       "   bytes15        int64     ...     float64           float64      \n",
       "-------------- ------------ ... --------------- -------------------\n",
       "   catalogue_1            2 ...          79.355             50.3601\n",
       "   catalogue_3            4 ...          73.403             63.3489\n",
       "   catalogue_5            6 ...             nan             32.6605\n",
       "   catalogue_7            8 ...          188.34             57.1254\n",
       "  catalogue_14           16 ...            25.5             81.5344\n",
       "  catalogue_20           24 ...          58.134             57.0353\n",
       "  catalogue_21           25 ...          73.676             48.0936\n",
       "  catalogue_24           29 ...             nan              213.98\n",
       "  catalogue_36           43 ...          76.631             58.6387\n",
       "  catalogue_38           45 ...           63.53             30.8378\n",
       "           ...          ... ...             ...                 ...\n",
       " catalogue_438          528 ...          120.32             138.975\n",
       " catalogue_462          559 ...          41.332             42.4477\n",
       " catalogue_503          607 ...             nan             15.5403\n",
       " catalogue_522          629 ...          25.316             29.7673\n",
       "catalogue_1545         1839 ...          124.57             94.4628\n",
       "catalogue_1563         1861 ...          17.212             19.2856\n",
       "catalogue_3439         4145 ...          18.069             22.8044\n",
       "catalogue_3808         4588 ...          64.944             156.634\n",
       "catalogue_4762         5736 ...          4.1465             9.11102\n",
       "catalogue_9272        11304 ...          30.638             21.8573"
      ],
      "text/html": "<i>Table length=42</i>\n<table id=\"table2019564252744\" class=\"table-striped table-bordered table-condensed\">\n<thead><tr><th>Name</th><th>MEM_MATCH_ID</th><th>Redshift</th><th>Tx_r2500_matcha</th><th>Tx_r2500_err_high_matcha</th><th>Tx_r2500_err_low_matcha</th><th>Tx_r500_matcha</th><th>Tx_r500_err_high_matcha</th><th>Tx_r500_err_low_matcha</th><th>Tx_xmm</th><th>Tx_err_high_xmm</th><th>Tx_err_low_xmm</th><th>r2500_SNR_matcha</th><th>r500_SNR_matcha</th><th>r2500_PNSNR_alt_xmm</th></tr></thead>\n<thead><tr><th>bytes15</th><th>int64</th><th>float64</th><th>float64</th><th>float64</th><th>float64</th><th>float64</th><th>float64</th><th>float64</th><th>float64</th><th>float64</th><th>float64</th><th>float64</th><th>float64</th><th>float64</th></tr></thead>\n<tr><td>catalogue_1</td><td>2</td><td>0.2833377420902252</td><td>11.166</td><td>0.6424</td><td>0.63832</td><td>10.934</td><td>0.85747</td><td>0.85751</td><td>7.828</td><td>0.2203031969999989</td><td>0.21822615200000062</td><td>101.61</td><td>79.355</td><td>50.3601</td></tr>\n<tr><td>catalogue_3</td><td>4</td><td>0.29875507950782776</td><td>10.675</td><td>0.82221</td><td>0.81572</td><td>14.845</td><td>2.3899</td><td>1.1838</td><td>5.93553</td><td>0.11494410999999971</td><td>0.11399394800000007</td><td>80.537</td><td>73.403</td><td>63.3489</td></tr>\n<tr><td>catalogue_5</td><td>6</td><td>0.41268131136894226</td><td>7.1066</td><td>0.31834</td><td>0.31181</td><td>nan</td><td>nan</td><td>nan</td><td>5.96545</td><td>0.6826603000000002</td><td>0.6811166960000001</td><td>84.785</td><td>nan</td><td>32.6605</td></tr>\n<tr><td>catalogue_7</td><td>8</td><td>0.2983894646167755</td><td>9.8859</td><td>0.25544</td><td>0.25569</td><td>9.6186</td><td>0.35822</td><td>0.21636</td><td>8.29323</td><td>0.21034413799999996</td><td>0.20948681800000024</td><td>251.93</td><td>188.34</td><td>57.1254</td></tr>\n<tr><td>catalogue_14</td><td>16</td><td>0.37259918451309204</td><td>9.117</td><td>1.8887</td><td>1.2807</td><td>8.1848</td><td>1.9394</td><td>1.3461</td><td>8.18501</td><td>0.1535090540000006</td><td>0.15274920300000083</td><td>32.063</td><td>25.5</td><td>81.5344</td></tr>\n<tr><td>catalogue_20</td><td>24</td><td>0.2382102757692337</td><td>12.27</td><td>1.3641</td><td>0.95964</td><td>15.041</td><td>2.378</td><td>2.2175</td><td>9.08992</td><td>0.33020290500000016</td><td>0.32942418399999873</td><td>75.774</td><td>58.134</td><td>57.0353</td></tr>\n<tr><td>catalogue_21</td><td>25</td><td>0.2831774652004242</td><td>9.2817</td><td>0.56765</td><td>0.45277</td><td>9.0506</td><td>0.61982</td><td>0.59182</td><td>7.45213</td><td>0.23026912699999968</td><td>0.2280244050000002</td><td>95.613</td><td>73.676</td><td>48.0936</td></tr>\n<tr><td>catalogue_24</td><td>29</td><td>0.5994992852210999</td><td>13.626</td><td>0.51466</td><td>0.51398</td><td>nan</td><td>nan</td><td>nan</td><td>12.4299</td><td>0.07564686000000087</td><td>0.07560574999999936</td><td>162.04</td><td>nan</td><td>213.98</td></tr>\n<tr><td>catalogue_36</td><td>43</td><td>0.21676212549209595</td><td>4.5171</td><td>0.17414</td><td>0.17101</td><td>4.4657</td><td>0.203</td><td>0.20082</td><td>4.06911</td><td>0.07421478399999959</td><td>0.07358307100000028</td><td>82.441</td><td>76.631</td><td>58.6387</td></tr>\n<tr><td>catalogue_38</td><td>45</td><td>0.2224164754152298</td><td>9.4533</td><td>0.79906</td><td>0.52096</td><td>8.3056</td><td>0.76342</td><td>0.75597</td><td>7.82223</td><td>0.4062185170000001</td><td>0.403793351</td><td>84.296</td><td>63.53</td><td>30.8378</td></tr>\n<tr><td>...</td><td>...</td><td>...</td><td>...</td><td>...</td><td>...</td><td>...</td><td>...</td><td>...</td><td>...</td><td>...</td><td>...</td><td>...</td><td>...</td><td>...</td></tr>\n<tr><td>catalogue_438</td><td>528</td><td>0.24135224521160126</td><td>7.2244</td><td>0.18533</td><td>0.18319</td><td>7.0315</td><td>0.23322</td><td>0.23</td><td>5.33052</td><td>0.03973531900000005</td><td>0.03953386800000036</td><td>153.07</td><td>120.32</td><td>138.975</td></tr>\n<tr><td>catalogue_462</td><td>559</td><td>0.3437211513519287</td><td>8.9383</td><td>1.0165</td><td>0.8394</td><td>8.9898</td><td>1.4394</td><td>1.0701</td><td>8.02956</td><td>0.25349365699999993</td><td>0.25073599899999977</td><td>49.266</td><td>41.332</td><td>42.4477</td></tr>\n<tr><td>catalogue_503</td><td>607</td><td>0.3090384304523468</td><td>6.6967</td><td>2.8229</td><td>1.6248</td><td>nan</td><td>nan</td><td>nan</td><td>4.29852</td><td>0.6918816130000005</td><td>0.40943062099999983</td><td>16.279</td><td>nan</td><td>15.5403</td></tr>\n<tr><td>catalogue_522</td><td>629</td><td>0.3024628460407257</td><td>4.5792</td><td>0.4853</td><td>0.42519</td><td>4.6787</td><td>0.66689</td><td>0.51347</td><td>3.95447</td><td>0.15319294699999952</td><td>0.150928328</td><td>30.029</td><td>25.316</td><td>29.7673</td></tr>\n<tr><td>catalogue_1545</td><td>1839</td><td>0.2531116306781769</td><td>3.8059</td><td>0.08543</td><td>0.084671</td><td>4.6222</td><td>0.24273</td><td>0.10129</td><td>2.96053</td><td>0.02933864700000033</td><td>0.029009840000000064</td><td>145.77</td><td>124.57</td><td>94.4628</td></tr>\n<tr><td>catalogue_1563</td><td>1861</td><td>0.4639320969581604</td><td>4.2587</td><td>0.67152</td><td>0.56436</td><td>3.4093</td><td>0.62351</td><td>0.52978</td><td>5.16852</td><td>0.337320214</td><td>0.31211789199999984</td><td>24.553</td><td>17.212</td><td>19.2856</td></tr>\n<tr><td>catalogue_3439</td><td>4145</td><td>0.4112046957015991</td><td>3.1695</td><td>0.43355</td><td>0.36639</td><td>3.8244</td><td>0.78314</td><td>0.45547</td><td>3.53963</td><td>0.3831284770000001</td><td>0.38224477199999995</td><td>18.353</td><td>18.069</td><td>22.8044</td></tr>\n<tr><td>catalogue_3808</td><td>4588</td><td>0.3183225989341736</td><td>5.6246</td><td>0.25522</td><td>0.2497</td><td>5.5311</td><td>0.29355</td><td>0.28975</td><td>4.62983</td><td>0.032386910999999685</td><td>0.03220068800000053</td><td>70.341</td><td>64.944</td><td>156.634</td></tr>\n<tr><td>catalogue_4762</td><td>5736</td><td>0.35842061042785645</td><td>3.2075</td><td>0.91399</td><td>0.60526</td><td>4.094</td><td>2.5346</td><td>1.0524</td><td>3.69343</td><td>1.2382897779999995</td><td>0.8509816900000002</td><td>8.0155</td><td>4.1465</td><td>9.11102</td></tr>\n<tr><td>catalogue_9272</td><td>11304</td><td>0.35702475905418396</td><td>7.1296</td><td>11.382</td><td>2.6694</td><td>3.3863</td><td>0.2923</td><td>0.28446</td><td>2.50648</td><td>0.36123180600000016</td><td>0.310698189</td><td>2.8202</td><td>30.638</td><td>21.8573</td></tr>\n</table>"
     },
     "metadata": {},
     "execution_count": 14
    }
   ],
   "source": [
    "print(len(catalog_1.colnames))\n",
    "\n",
    "catalog_1"
   ]
  }
 ]
}